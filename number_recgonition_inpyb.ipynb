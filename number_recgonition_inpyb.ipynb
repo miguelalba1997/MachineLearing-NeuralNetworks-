{
  "nbformat": 4,
  "nbformat_minor": 0,
  "metadata": {
    "colab": {
      "name": "number recgonition.inpyb",
      "provenance": [],
      "collapsed_sections": [],
      "include_colab_link": true
    },
    "kernelspec": {
      "name": "python3",
      "display_name": "Python 3"
    }
  },
  "cells": [
    {
      "cell_type": "markdown",
      "metadata": {
        "id": "view-in-github",
        "colab_type": "text"
      },
      "source": [
        "<a href=\"https://colab.research.google.com/github/miguelalba1997/MachineLearing-NeuralNetworks-/blob/master/number_recgonition_inpyb.ipynb\" target=\"_parent\"><img src=\"https://colab.research.google.com/assets/colab-badge.svg\" alt=\"Open In Colab\"/></a>"
      ]
    },
    {
      "cell_type": "code",
      "metadata": {
        "id": "5UfR9-Ek6Q8n",
        "colab_type": "code",
        "colab": {
          "base_uri": "https://localhost:8080/",
          "height": 299
        },
        "outputId": "8281a98a-b16a-4770-e8a4-1afc171f31c1"
      },
      "source": [
        "import matplotlib.pyplot as plt\n",
        "import numpy as np\n",
        "from sklearn import datasets\n",
        "from sklearn import svm\n",
        "\n",
        "digits = datasets.load_digits()\n",
        "\n",
        "\"\"\"\n",
        "print(digits.data)\n",
        "print(digits.target)\n",
        "print(digits.images)\n",
        "\"\"\"\n",
        "\n",
        "clf = svm.SVC(gamma=0.000001, C=100)\n",
        "\n",
        "print(len(digits.data))\n",
        "\n",
        "x,y = digits.data[:-13], digits.target[:-13]\n",
        "clf.fit(x,y)\n",
        "\n",
        "print(\"prediction:\", clf.predict(digits.data[-13].reshape(1,-1)))\n",
        "plt.imshow(digits.images[-13], cmap = plt.cm.gray_r, interpolation=\"nearest\")\n",
        "plt.show()\n"
      ],
      "execution_count": 22,
      "outputs": [
        {
          "output_type": "stream",
          "text": [
            "1797\n",
            "prediction: [5]\n"
          ],
          "name": "stdout"
        },
        {
          "output_type": "display_data",
          "data": {
            "image/png": "[encoded data removed]",
            "text/plain": [
              "<Figure size 432x288 with 1 Axes>"
            ]
          },
          "metadata": {
            "tags": []
          }
        }
      ]
    }
  ]
}