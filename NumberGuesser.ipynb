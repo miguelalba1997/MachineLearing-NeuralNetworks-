{
  "nbformat": 4,
  "nbformat_minor": 0,
  "metadata": {
    "colab": {
      "name": "NumberGuesser.ipynb",
      "provenance": [],
      "collapsed_sections": [],
      "include_colab_link": true
    },
    "kernelspec": {
      "name": "python3",
      "display_name": "Python 3"
    }
  },
  "cells": [
    {
      "cell_type": "markdown",
      "metadata": {
        "id": "view-in-github",
        "colab_type": "text"
      },
      "source": [
        "<a href=\"https://colab.research.google.com/github/miguelalba1997/MachineLearing-NeuralNetworks-/blob/master/NumberGuesser.ipynb\" target=\"_parent\"><img src=\"https://colab.research.google.com/assets/colab-badge.svg\" alt=\"Open In Colab\"/></a>"
      ]
    },
    {
      "cell_type": "code",
      "metadata": {
        "id": "_G6wYNzojGPN",
        "colab_type": "code",
        "outputId": "0b8c37c4-52f6-49a0-caf1-360e91adad2a",
        "colab": {
          "base_uri": "https://localhost:8080/",
          "height": 537
        }
      },
      "source": [
        "import tensorflow as tf\n",
        "from tensorflow.examples.tutorials.mnist import input_data\n",
        "import numpy as np\n",
        "import matplotlib.pyplot as plt\n",
        "\n",
        "mnist = input_data.read_data_sets(\"/tmp/data/\", one_hot = True)\n",
        "\n",
        "#set up the amount of nodes in each layer\n",
        "n_nodes_hl1 = 500\n",
        "n_nodes_hl2 = 500\n",
        "n_nodes_hl3 = 500\n",
        "n_nodes_ol = 10\n",
        "\n",
        "batch_size = 100 #how many images will go through the network at a time before \n",
        "                 #any updates are made to the network wieghts and biases\n",
        "\"\"\"                \n",
        "set up the height of our data. this just makes sure that the data we feed into\n",
        "our network is in the right format. input validation in a way\n",
        "\"\"\"\n",
        "x = tf.placeholder(\"float\", [None, 784]) #data\n",
        "y = tf.placeholder(\"float\") #label of our data\n",
        "\n",
        "def neural_network(data):\n",
        "    #initialize our hidden and output layers with random wieghts and biases\n",
        "    hidden_layer1 = {\"wieghts\":tf.Variable(tf.random_normal([784, n_nodes_hl1])),\n",
        "                     \"biases\":tf.Variable(tf.random_normal([n_nodes_hl1]))}\n",
        "\n",
        "    hidden_layer2 = {\"wieghts\":tf.Variable(tf.random_normal([n_nodes_hl1, n_nodes_hl2])),\n",
        "                     \"biases\":tf.Variable(tf.random_normal([n_nodes_hl2]))}\n",
        "\n",
        "    hidden_layer3 = {\"wieghts\":tf.Variable(tf.random_normal([n_nodes_hl2, n_nodes_hl3])),\n",
        "                     \"biases\":tf.Variable(tf.random_normal([n_nodes_hl3]))}\n",
        "\n",
        "    output_layer =  {\"wieghts\":tf.Variable(tf.random_normal([n_nodes_hl3, n_nodes_ol])),\n",
        "                     \"biases\":tf.Variable(tf.random_normal([n_nodes_ol]))}\n",
        "\n",
        "    #relu == activation function. rectified linear\n",
        "    layer1 = tf.add(tf.matmul(data, hidden_layer1[\"wieghts\"]), hidden_layer1[\"biases\"])\n",
        "    layer1 = tf.nn.relu(layer1)\n",
        "\n",
        "    layer2 = tf.add(tf.matmul(layer1, hidden_layer2[\"wieghts\"]), hidden_layer2[\"biases\"])\n",
        "    layer2 = tf.nn.relu(layer2)\n",
        "\n",
        "    layer3 = tf.add(tf.matmul(layer2, hidden_layer3[\"wieghts\"]), hidden_layer3[\"biases\"])\n",
        "    layer3 = tf.nn.relu(layer3)\n",
        "\n",
        "    output = tf.add(tf.matmul(layer3, output_layer[\"wieghts\"]), output_layer[\"biases\"])\n",
        "    \n",
        "\n",
        "    return output\n",
        "\n",
        "def training(x):\n",
        "    prediction = neural_network(x)#make our network give us a prediction\n",
        "    cost = tf.reduce_mean(tf.nn.softmax_cross_entropy_with_logits(logits = prediction, labels = y))#initiate our cost fuction\n",
        "    optimizer = tf.train.AdamOptimizer().minimize(cost)#stochastic gradient descent\n",
        "    \n",
        "    #set how many cycles we want to run our model for\n",
        "    epochs = 8\n",
        "\n",
        "    with tf.Session() as sess:\n",
        "        sess.run(tf.global_variables_initializer())\n",
        "        for epoch in range(epochs):\n",
        "            loss = 0\n",
        "            for _ in range(int(mnist.train.num_examples/batch_size)):\n",
        "                epoch_x, epoch_y = mnist.train.next_batch(batch_size)\n",
        "                _, c = sess.run([optimizer, cost], feed_dict = {x: epoch_x, y: epoch_y})\n",
        "                loss += c\n",
        "            print(\"Epoch:\", epoch, \"Loss for Epoch\", loss)\n",
        "            \n",
        "        correct = tf.equal(tf.argmax(prediction, 1), tf.argmax(y,1))\n",
        "        accuracy = tf.reduce_mean(tf.cast(correct, \"float\"))\n",
        "        print(\"Accuracy:\", accuracy.eval({x:mnist.test.images, y:mnist.test.labels}))\n",
        "        test = neural_network(mnist.test.images[0].reshape(1,-1))\n",
        "        print(\"Guess:\", tf.equal(tf.argmax(test, 1), tf.argmax(mnist.test.labels[0], 1)))\n",
        "\n",
        "print(len(mnist.test.images[0]))\n",
        "print(mnist.test.labels[0])\n",
        "plt.imshow(mnist.test.images[0].reshape(-1, 28), cmap = plt.cm.gray_r, interpolation=\"nearest\")\n",
        "plt.show()\n",
        "training(x)\n"
      ],
      "execution_count": 6,
      "outputs": [
        {
          "output_type": "stream",
          "text": [
            "Extracting /tmp/data/train-images-idx3-ubyte.gz\n",
            "Extracting /tmp/data/train-labels-idx1-ubyte.gz\n",
            "Extracting /tmp/data/t10k-images-idx3-ubyte.gz\n",
            "Extracting /tmp/data/t10k-labels-idx1-ubyte.gz\n",
            "784\n",
            "[0. 0. 0. 0. 0. 0. 0. 1. 0. 0.]\n"
          ],
          "name": "stdout"
        },
        {
          "output_type": "display_data",
          "data": {
            "image/png": "[encoded data removed]",
            "text/plain": [
              "<Figure size 432x288 with 1 Axes>"
            ]
          },
          "metadata": {
            "tags": []
          }
        },
        {
          "output_type": "stream",
          "text": [
            "Epoch: 0 Loss for Epoch 1788206.6568908691\n",
            "Epoch: 1 Loss for Epoch 415165.47537612915\n",
            "Epoch: 2 Loss for Epoch 224169.77331018448\n",
            "Epoch: 3 Loss for Epoch 131491.24304652214\n",
            "Epoch: 4 Loss for Epoch 80581.29843813181\n",
            "Epoch: 5 Loss for Epoch 54196.72907906771\n",
            "Epoch: 6 Loss for Epoch 33276.235056102276\n",
            "Epoch: 7 Loss for Epoch 25098.973801667304\n",
            "Accuracy: 0.9453\n",
            "Guess: Tensor(\"Equal_5:0\", shape=(1,), dtype=bool)\n"
          ],
          "name": "stdout"
        }
      ]
    }
  ]
}